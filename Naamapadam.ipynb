{
  "nbformat": 4,
  "nbformat_minor": 0,
  "metadata": {
    "colab": {
      "name": "Naamapadam.ipynb",
      "provenance": [],
      "authorship_tag": "ABX9TyNpc8V5k74wYgvYWHCepcle",
      "include_colab_link": true
    },
    "kernelspec": {
      "name": "python3",
      "display_name": "Python 3"
    },
    "language_info": {
      "name": "python"
    }
  },
  "cells": [
    {
      "cell_type": "markdown",
      "metadata": {
        "id": "view-in-github",
        "colab_type": "text"
      },
      "source": [
        "<a href=\"https://colab.research.google.com/github/Ananthzeke/Tamil-NER/blob/main/Naamapadam.ipynb\" target=\"_parent\"><img src=\"https://colab.research.google.com/assets/colab-badge.svg\" alt=\"Open In Colab\"/></a>"
      ]
    },
    {
      "cell_type": "code",
      "execution_count": null,
      "metadata": {
        "id": "7jZtvxRczleF"
      },
      "outputs": [],
      "source": [
        "!pip install datasets"
      ]
    },
    {
      "cell_type": "code",
      "source": [
        "import tensorflow as tf\n",
        "import numpy as np\n",
        "from datasets import load_dataset"
      ],
      "metadata": {
        "id": "lE7JF5PJzmLG"
      },
      "execution_count": null,
      "outputs": []
    },
    {
      "cell_type": "markdown",
      "source": [
        "Naamapadam Dataset Structure\n",
        "```\n",
        "DatasetDict({\n",
        "    train: Dataset({\n",
        "        features: ['words', 'ner'],\n",
        "        num_rows: 497882\n",
        "    })\n",
        "    test: Dataset({\n",
        "        features: ['words', 'ner'],\n",
        "        num_rows: 49\n",
        "    })\n",
        "    validation: Dataset({\n",
        "        features: ['words', 'ner'],\n",
        "        num_rows: 2795\n",
        "    })\n",
        "})\n",
        "```"
      ],
      "metadata": {
        "id": "xjXWnqG7qWCd"
      }
    },
    {
      "cell_type": "code",
      "source": [
        "def load_naamapadam(lang=\"ta\"):\n",
        "  naamapadam = load_dataset('ai4bharat/naamapadam',lang)\n",
        "  return (\n",
        "      tf.data.Dataset.from_tensor_slices((tf.ragged.constant(naamapadam[\"train\"][\"words\"]),tf.ragged.constant(naamapadam[\"train\"][\"ner\"]))),\n",
        "      tf.data.Dataset.from_tensor_slices((tf.ragged.constant(naamapadam[\"validation\"][\"words\"]),tf.ragged.constant(naamapadam[\"validation\"][\"ner\"]))),\n",
        "      tf.data.Dataset.from_tensor_slices((tf.ragged.constant(naamapadam[\"test\"][\"words\"]),tf.ragged.constant(naamapadam[\"test\"][\"ner\"])))\n",
        "  )"
      ],
      "metadata": {
        "id": "UD8bhNhG3mHG"
      },
      "execution_count": null,
      "outputs": []
    },
    {
      "cell_type": "code",
      "source": [
        "train_ds, validation_ds, test_ds = load_naamapadam()"
      ],
      "metadata": {
        "id": "LPIlonrx5des"
      },
      "execution_count": null,
      "outputs": []
    }
  ]
}